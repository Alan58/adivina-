{
 "cells": [
  {
   "cell_type": "code",
   "execution_count": 1,
   "metadata": {},
   "outputs": [
    {
     "name": "stdout",
     "output_type": "stream",
     "text": [
      "El número de periodos que se debe dejar invertido el dinero es 13. Al final del periodo 13, el capital es 11040.0.\n"
     ]
    }
   ],
   "source": [
    "# Librería para cálculo numérico\n",
    "import numpy as np\n",
    "\n",
    "# Valores dados en el enunciado\n",
    "C_0, meta, i = 10000, 11000, 0.008\n",
    "# Despejamos k tal que C_k=meta\n",
    "k = np.ceil((meta/C_0 - 1)/i)   # Notar el uso de la función ceil (no se puede tener un número no entero de periodos)\n",
    "k = k.astype(int)               # Conversión a entero (para visualización)\n",
    "C_k = C_0*(1+k*i)               # Cálculo del capital al final del periodo k\n",
    "C_k = round(C_k, 2)             # Redondeo con dos cifras decimales\n",
    "\n",
    "# Imprimimos respuesta en pantalla\n",
    "print(\"El número de periodos que se debe dejar invertido el dinero es \", k,\". Al final del periodo \", k,\n",
    "      \", el capital es \", C_k, \".\", sep=\"\")"
   ]
  },
  {
   "cell_type": "code",
   "execution_count": null,
   "metadata": {
    "collapsed": true
   },
   "outputs": [],
   "source": []
  }
 ],
 "metadata": {
  "kernelspec": {
   "display_name": "Python 3",
   "language": "python",
   "name": "python3"
  },
  "language_info": {
   "codemirror_mode": {
    "name": "ipython",
    "version": 3
   },
   "file_extension": ".py",
   "mimetype": "text/x-python",
   "name": "python",
   "nbconvert_exporter": "python",
   "pygments_lexer": "ipython3",
   "version": "3.6.1"
  }
 },
 "nbformat": 4,
 "nbformat_minor": 2
}
