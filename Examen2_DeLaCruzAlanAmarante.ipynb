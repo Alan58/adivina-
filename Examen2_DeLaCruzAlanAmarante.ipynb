{
 "cells": [
  {
   "cell_type": "markdown",
   "metadata": {},
   "source": [
    "# Examen Módulo 2 - Simulación Montecarlo. <font color =blue> Tipo de examen 1.  </font>\n",
    "\n",
    "Lea cuidadosamente las siguientes indicaciones antes de comenzar el examen:\n",
    "\n",
    "- Para resolver el examen edite este mismo archivo y renómbrelo de la siguiente manera: *Examen1_ApellidoNombre*, donde *ApellidoNombre* corresponde a su apellido paterno con la inicial en mayúscula, seguido de su primer nombre con la inicial en mayúscula **sin acentos**. Por ejemplo, en mi caso el nombre del archivo sería Examen1_LopezMichel.\n",
    "- Resuelva los puntos en el espacio provisto. Si requiere agregar más celdas para código o escritura, hágalo.\n",
    "- Recuerde que también se está evaluando su capacidad de interpretar los resultados. Escriba sus interpretaciones/conclusiones en celdas utilizando *Markdown*.\n",
    "- El formato de presentación de todo el examen en general debe ser adecuado. Use tamaños de letra, colores, etiquetas, etcétera.\n",
    "- No se resuelven dudas de ningún tipo por los profesores de la asignatura. Por favor, absténgase de preguntar.\n",
    "- Revise bien el tipo de examen. Sólo se le calificará si realiza el tipo de examen asignado."
   ]
  },
  {
   "cell_type": "code",
   "execution_count": 2,
   "metadata": {
    "collapsed": true
   },
   "outputs": [],
   "source": [
    "%matplotlib inline \n",
    "\n",
    "import sympy as sym\n",
    "import numpy as np\n",
    "import matplotlib.pylab as plt\n",
    "import pandas as pd\n",
    "import plotly.offline as py\n",
    "import plotly.figure_factory as ff\n",
    "import plotly.graph_objs as go\n",
    "from sympy import init_printing \n",
    "from sympy import *\n",
    "\n",
    "from scipy.integrate import odeint\n",
    "\n",
    "\n",
    "init_printing()\n",
    "sym.var('x y t')\n",
    "T = sym.Function('T')\n"
   ]
  },
  {
   "cell_type": "code",
   "execution_count": 3,
   "metadata": {},
   "outputs": [
    {
     "data": {
      "text/html": [
       "<script>requirejs.config({paths: { 'plotly': ['https://cdn.plot.ly/plotly-latest.min']},});if(!window.Plotly) {{require(['plotly'],function(plotly) {window.Plotly=plotly;});}}</script>"
      ],
      "text/vnd.plotly.v1+html": [
       "<script>requirejs.config({paths: { 'plotly': ['https://cdn.plot.ly/plotly-latest.min']},});if(!window.Plotly) {{require(['plotly'],function(plotly) {window.Plotly=plotly;});}}</script>"
      ]
     },
     "metadata": {},
     "output_type": "display_data"
    }
   ],
   "source": [
    "py.init_notebook_mode(connected=True)"
   ]
  },
  {
   "cell_type": "code",
   "execution_count": 4,
   "metadata": {},
   "outputs": [
    {
     "name": "stdout",
     "output_type": "stream",
     "text": [
      "Requirement already satisfied: plotly in c:\\users\\isela calvillo\\anaconda3\\lib\\site-packages\n",
      "Requirement already satisfied: decorator>=4.0.6 in c:\\users\\isela calvillo\\anaconda3\\lib\\site-packages (from plotly)\n",
      "Requirement already satisfied: nbformat>=4.2 in c:\\users\\isela calvillo\\anaconda3\\lib\\site-packages (from plotly)\n",
      "Requirement already satisfied: requests in c:\\users\\isela calvillo\\anaconda3\\lib\\site-packages (from plotly)\n",
      "Requirement already satisfied: pytz in c:\\users\\isela calvillo\\anaconda3\\lib\\site-packages (from plotly)\n",
      "Requirement already satisfied: six in c:\\users\\isela calvillo\\anaconda3\\lib\\site-packages (from plotly)\n"
     ]
    }
   ],
   "source": [
    "!pip install plotly"
   ]
  },
  {
   "cell_type": "code",
   "execution_count": 5,
   "metadata": {},
   "outputs": [
    {
     "data": {
      "image/png": "[encoded data removed]",
      "text/latex": [
       "$$\\frac{8}{3}$$"
      ],
      "text/plain": [
       "8/3"
      ]
     },
     "execution_count": 5,
     "metadata": {},
     "output_type": "execute_result"
    }
   ],
   "source": [
    "x**2\n",
    "integrate(x**2,(x,0,2))"
   ]
  },
  {
   "cell_type": "code",
   "execution_count": null,
   "metadata": {
    "collapsed": true
   },
   "outputs": [],
   "source": []
  },
  {
   "cell_type": "code",
   "execution_count": 6,
   "metadata": {},
   "outputs": [
    {
     "data": {
      "image/png": "[encoded data removed]",
      "text/latex": [
       "$$4 \\pi$$"
      ],
      "text/plain": [
       "4⋅π"
      ]
     },
     "execution_count": 6,
     "metadata": {},
     "output_type": "execute_result"
    }
   ],
   "source": [
    "f= cos(y)*x**2 +1\n",
    "integrate(f,(x,-1,1),(y,-pi,pi))"
   ]
  },
  {
   "cell_type": "markdown",
   "metadata": {},
   "source": [
    "# Primer punto (50 puntos)."
   ]
  },
  {
   "cell_type": "markdown",
   "metadata": {},
   "source": [
    "## <font color = red> Problema 1 <font>\n",
    "\n",
    "### Evaluación numérica de integrales por el método montecarlo\n",
    "\n",
    "\n",
    "**1. (20 puntos)** \n",
    "\n",
    "Estimar la siguiente integral por el método montecarlo\n",
    "\n",
    "$$I = \\int_{-\\pi}^{\\pi} \\int_{-1}^{1} (\\cos(y)x^2 +1 )dx dy$$\n",
    "\n",
    "\n",
    "**2. (20 puntos)** \n",
    "\n",
    "Realice una tabla con la librería pandas para los resultados de la integración Monte Carlo para la ecuación anterior realizando\n",
    "$100$ realizaciones para cada uno de los valores $N$ que se muestran en la\n",
    "tabla siguiente. Muestre el valor estimado de la integral promedio y el resultado de máximo y mínimo de las $100$ realizaciones.\n",
    "\n",
    "|N|min|promedio|max|\n",
    "|---|---|---|---|\n",
    "|10|*|*|*|\n",
    "|100|*|*|*|\n",
    "|1000|*|*|*|\n",
    "|10000|*|*|*|\n",
    "\n",
    "\n",
    "\n",
    "**3. (10 puntos)** \n",
    "\n",
    "Grafique la funcion a integrar.\n"
   ]
  },
  {
   "cell_type": "code",
   "execution_count": 7,
   "metadata": {},
   "outputs": [
    {
     "data": {
      "image/png": "[encoded data removed]",
      "text/latex": [
       "$$13.0135988098$$"
      ],
      "text/plain": [
       "13.0135988098"
      ]
     },
     "execution_count": 7,
     "metadata": {},
     "output_type": "execute_result"
    }
   ],
   "source": [
    "f= lambda x,y: np.cos(y)*x**2 +1\n",
    "\n",
    "n=100\n",
    "a,b=-1,1\n",
    "c,d=-np.pi,np.pi\n",
    "\n",
    "x1= np.random.uniform(a,b,n)\n",
    "y1= np.random.uniform(c,d,n)\n",
    "x,y=np.meshgrid(x1,y1)\n",
    "\n",
    "v= (b-a) *(d-c)\n",
    "v*sum(sum(f(x,y)))/(n*n)\n"
   ]
  },
  {
   "cell_type": "code",
   "execution_count": 8,
   "metadata": {},
   "outputs": [
    {
     "ename": "NameError",
     "evalue": "name 'df' is not defined",
     "output_type": "error",
     "traceback": [
      "\u001b[1;31m---------------------------------------------------------------------------\u001b[0m",
      "\u001b[1;31mNameError\u001b[0m                                 Traceback (most recent call last)",
      "\u001b[1;32m<ipython-input-8-10808bcc1fe2>\u001b[0m in \u001b[0;36m<module>\u001b[1;34m()\u001b[0m\n\u001b[0;32m     13\u001b[0m     \u001b[0mI\u001b[0m \u001b[1;33m=\u001b[0m \u001b[0mv\u001b[0m\u001b[1;33m*\u001b[0m\u001b[0msum\u001b[0m\u001b[1;33m(\u001b[0m\u001b[0msum\u001b[0m\u001b[1;33m(\u001b[0m\u001b[0mf\u001b[0m\u001b[1;33m(\u001b[0m\u001b[0mx\u001b[0m\u001b[1;33m,\u001b[0m\u001b[0my\u001b[0m\u001b[1;33m)\u001b[0m\u001b[1;33m)\u001b[0m\u001b[1;33m)\u001b[0m\u001b[1;33m/\u001b[0m\u001b[1;33m(\u001b[0m\u001b[0mn\u001b[0m\u001b[1;33m*\u001b[0m\u001b[0mn\u001b[0m\u001b[1;33m)\u001b[0m\u001b[1;33m\u001b[0m\u001b[0m\n\u001b[0;32m     14\u001b[0m     \u001b[0mh\u001b[0m\u001b[1;33m[\u001b[0m\u001b[0mi\u001b[0m\u001b[1;33m]\u001b[0m\u001b[1;33m=\u001b[0m\u001b[0mI\u001b[0m\u001b[1;33m\u001b[0m\u001b[0m\n\u001b[1;32m---> 15\u001b[1;33m     \u001b[0mdf\u001b[0m\u001b[1;33m.\u001b[0m\u001b[0mloc\u001b[0m\u001b[1;33m[\u001b[0m\u001b[0mn\u001b[0m\u001b[1;33m]\u001b[0m\u001b[1;33m=\u001b[0m\u001b[1;33m[\u001b[0m\u001b[0mh\u001b[0m\u001b[1;33m.\u001b[0m\u001b[0mmin\u001b[0m\u001b[1;33m(\u001b[0m\u001b[1;33m)\u001b[0m\u001b[1;33m,\u001b[0m\u001b[0mh\u001b[0m\u001b[1;33m.\u001b[0m\u001b[0mmean\u001b[0m\u001b[1;33m(\u001b[0m\u001b[1;33m)\u001b[0m\u001b[1;33m,\u001b[0m\u001b[0mh\u001b[0m\u001b[1;33m.\u001b[0m\u001b[0mmax\u001b[0m\u001b[1;33m(\u001b[0m\u001b[1;33m)\u001b[0m\u001b[1;33m]\u001b[0m\u001b[1;33m\u001b[0m\u001b[0m\n\u001b[0m",
      "\u001b[1;31mNameError\u001b[0m: name 'df' is not defined"
     ]
    }
   ],
   "source": [
    "f= lambda x,y: np.cos(y)*x**2 +1\n",
    "\n",
    "n=10\n",
    "a,b=-1,1\n",
    "c,d=-np.pi,np.pi\n",
    "h= np.zeros(n)\n",
    "for i,val in enumerate (h):\n",
    "    x1= np.random.uniform(a,b,n)\n",
    "    y1= np.random.uniform(c,d,n)\n",
    "    x,y=np.meshgrid(x1,y1)\n",
    "\n",
    "    v= (b-a) *(d-c)\n",
    "    I = v*sum(sum(f(x,y)))/(n*n)\n",
    "    h[i]=I\n",
    "    df.loc[n]=[h.min(),h.mean(),h.max()]"
   ]
  },
  {
   "cell_type": "code",
   "execution_count": null,
   "metadata": {},
   "outputs": [],
   "source": [
    "h.max(), h.min(), h.mean()"
   ]
  },
  {
   "cell_type": "code",
   "execution_count": null,
   "metadata": {},
   "outputs": [],
   "source": [
    "for i,val in enumerate(a):\n",
    "    print (i,val,a[i])"
   ]
  },
  {
   "cell_type": "code",
   "execution_count": null,
   "metadata": {
    "collapsed": true
   },
   "outputs": [],
   "source": [
    "a = np.array([9,8,7])"
   ]
  },
  {
   "cell_type": "code",
   "execution_count": null,
   "metadata": {
    "collapsed": true
   },
   "outputs": [],
   "source": [
    "a=np.zeros(5)"
   ]
  },
  {
   "cell_type": "code",
   "execution_count": null,
   "metadata": {
    "collapsed": true
   },
   "outputs": [],
   "source": [
    "a[1]=10"
   ]
  },
  {
   "cell_type": "code",
   "execution_count": null,
   "metadata": {},
   "outputs": [],
   "source": [
    "a"
   ]
  },
  {
   "cell_type": "code",
   "execution_count": null,
   "metadata": {},
   "outputs": [],
   "source": [
    "a.max(),a.min(),a.mean()"
   ]
  },
  {
   "cell_type": "code",
   "execution_count": null,
   "metadata": {},
   "outputs": [],
   "source": [
    "np.logspace (1,4,4).astype(int)"
   ]
  },
  {
   "cell_type": "code",
   "execution_count": 15,
   "metadata": {},
   "outputs": [
    {
     "ename": "NameError",
     "evalue": "name 'df' is not defined",
     "output_type": "error",
     "traceback": [
      "\u001b[1;31m---------------------------------------------------------------------------\u001b[0m",
      "\u001b[1;31mNameError\u001b[0m                                 Traceback (most recent call last)",
      "\u001b[1;32m<ipython-input-15-0c2dc77cd604>\u001b[0m in \u001b[0;36m<module>\u001b[1;34m()\u001b[0m\n\u001b[0;32m      5\u001b[0m     \u001b[1;32mfor\u001b[0m \u001b[0mi\u001b[0m\u001b[1;33m,\u001b[0m\u001b[0mval\u001b[0m \u001b[1;32min\u001b[0m \u001b[0menumerate\u001b[0m \u001b[1;33m(\u001b[0m\u001b[0mhistorial\u001b[0m\u001b[1;33m)\u001b[0m\u001b[1;33m:\u001b[0m\u001b[1;33m\u001b[0m\u001b[0m\n\u001b[0;32m      6\u001b[0m         \u001b[0mhistorial\u001b[0m\u001b[1;33m[\u001b[0m\u001b[0mi\u001b[0m\u001b[1;33m]\u001b[0m\u001b[1;33m=\u001b[0m\u001b[0mint\u001b[0m\u001b[1;33m(\u001b[0m\u001b[1;33m)\u001b[0m\u001b[1;33m\u001b[0m\u001b[0m\n\u001b[1;32m----> 7\u001b[1;33m         \u001b[0mdf\u001b[0m\u001b[1;33m.\u001b[0m\u001b[0mloc\u001b[0m\u001b[1;33m[\u001b[0m\u001b[0mn\u001b[0m\u001b[1;33m]\u001b[0m\u001b[1;33m=\u001b[0m\u001b[1;33m[\u001b[0m\u001b[0mhistorial\u001b[0m\u001b[1;33m.\u001b[0m\u001b[0mmin\u001b[0m\u001b[1;33m(\u001b[0m\u001b[1;33m)\u001b[0m\u001b[1;33m,\u001b[0m\u001b[0mhistorial\u001b[0m\u001b[1;33m.\u001b[0m\u001b[0mmean\u001b[0m\u001b[1;33m(\u001b[0m\u001b[1;33m)\u001b[0m\u001b[1;33m,\u001b[0m\u001b[0mhistorial\u001b[0m\u001b[1;33m.\u001b[0m\u001b[0mmax\u001b[0m\u001b[1;33m(\u001b[0m\u001b[1;33m)\u001b[0m\u001b[1;33m]\u001b[0m\u001b[1;33m\u001b[0m\u001b[0m\n\u001b[0m",
      "\u001b[1;31mNameError\u001b[0m: name 'df' is not defined"
     ]
    }
   ],
   "source": [
    "simula= np.logspace(1,4,4).astype(int)\n",
    "\n",
    "for n in simula:\n",
    "    historial =np.zeros(10)\n",
    "    for i,val in enumerate (historial):\n",
    "        historial[i]=int()\n",
    "        df.loc[n]=[historial.min(),historial.mean(),historial.max()]"
   ]
  },
  {
   "cell_type": "markdown",
   "metadata": {},
   "source": [
    "# Primer punto (50 puntos).\n",
    "\n",
    "## Introducción al problema. \n",
    "\n",
    "## Ley de Newton del enfriamiento\n",
    "\n",
    "La ley empírica de Newton, relativa al enfriamiento de un objeto, se expresa con la ecuación diferencial lineal de primer orden\n",
    "\n",
    "$$\\frac{dT}{dt} = k(T - Tm) $$\n",
    "\n",
    "en que $k$ es una constante de proporcionalidad, $T(r)$ es la temperatura del objeto cuando $t > 0$\n",
    "y $T_m$ es la temperatura ambiente; o sea, la temperatura del medio que rodea al objeto. \n",
    "\n",
    "Supondremos que $T_m$ es constante."
   ]
  },
  {
   "cell_type": "code",
   "execution_count": null,
   "metadata": {
    "collapsed": true
   },
   "outputs": [],
   "source": []
  },
  {
   "cell_type": "markdown",
   "metadata": {},
   "source": [
    "## ¿Cuánto esperar para comenzar a comer pastel?\n",
    "\n",
    "Al sacar un pastel del horno, su temperatura es $280°C$. Después de $3$ minutos, $2OO°C$. ¿En cuanto tiempo se enfriará hasta la temperatura ambiente de $28°C$? Realiza las siguientes actividades:\n",
    "\n",
    "**1. (5 puntos)** \n",
    "\n",
    "-Simula el sistema en un tiempo de $0$ a $60$ unidades de tiempo  con una constante de proporcionalidad $k=-0.14518$,  \n",
    "- Grafique la solución.\n",
    "\n",
    "**2. (20 puntos)**\n",
    "- Supoga que cada unidad de tiempo corresponde a un minuto. ¿Que    temperatura tiene en el minuto $20$?\n",
    "- Ahora simula tu sistema utilizando una variable aleatoria para latemperatura inicial $T$ con una  distribucion normal de media $280$ y una desviacion estandar de $15$, Realiza $100$ realizaciones.\n",
    "- Grafica las $100$ realizaciones. \n",
    "\n",
    "**3. (25 puntos)**\n",
    "- De las $100$ realizaciones, ¿cual es la temperatura promedio en el minuto $20$?\n",
    "- ¿Cual es la desviacion estandar de los valores anteriores?\n"
   ]
  },
  {
   "cell_type": "code",
   "execution_count": 17,
   "metadata": {
    "collapsed": true
   },
   "outputs": [],
   "source": [
    "Tm=28\n",
    "K=-.14518\n",
    "def Ley (T, t):\n",
    "    return K*(T-Tm)"
   ]
  },
  {
   "cell_type": "code",
   "execution_count": 18,
   "metadata": {},
   "outputs": [
    {
     "data": {
      "image/png": "[encoded data removed]",
      "text/plain": [
       "<matplotlib.figure.Figure at 0x1feda27f98>"
      ]
     },
     "metadata": {},
     "output_type": "display_data"
    }
   ],
   "source": [
    "T_0=280\n",
    "#t=np.linspace(0,60)\n",
    "t=np.arange(0,60,1)\n",
    "T=odeint(Ley,T_0,t)\n",
    "plt.plot (t,T)\n",
    "plt.xlabel('$t$', fontsize = 18)\n",
    "plt.ylabel('$Temperatura$', fontsize = 18)\n",
    "plt.show()"
   ]
  },
  {
   "cell_type": "code",
   "execution_count": 19,
   "metadata": {},
   "outputs": [
    {
     "data": {
      "text/plain": [
       "array([ 41.81602279])"
      ]
     },
     "execution_count": 19,
     "metadata": {},
     "output_type": "execute_result"
    }
   ],
   "source": [
    "T[20]"
   ]
  },
  {
   "cell_type": "code",
   "execution_count": 20,
   "metadata": {},
   "outputs": [
    {
     "data": {
      "image/png": "[encoded data removed]",
      "text/plain": [
       "<matplotlib.figure.Figure at 0x1fedc91470>"
      ]
     },
     "metadata": {},
     "output_type": "display_data"
    }
   ],
   "source": [
    "Tm=28\n",
    "K=-.25\n",
    "def Ley (T, t):\n",
    "    return K*(T-Tm)\n",
    "T_0=280\n",
    "#t=np.linspace(0,60)\n",
    "t=np.arange(0,60,.01)\n",
    "T=odeint(Ley,T_0,t)\n",
    "plt.plot (t,T)\n",
    "plt.xlabel('$t$', fontsize = 18)\n",
    "plt.ylabel('$Temperatura$', fontsize = 18)\n",
    "plt.show()"
   ]
  },
  {
   "cell_type": "markdown",
   "metadata": {},
   "source": [
    "<script>\n",
    "  $(document).ready(function(){\n",
    "    $('div.prompt').hide();\n",
    "    $('div.back-to-top').hide();\n",
    "    $('nav#menubar').hide();\n",
    "    $('.breadcrumb').hide();\n",
    "    $('.hidden-print').hide();\n",
    "  });\n",
    "</script>\n",
    "\n",
    "<footer id=\"attribution\" style=\"float:right; color:#808080; background:#fff;\">\n",
    "Created with Jupyter by Michel Emanuel López Franco.\n",
    "</footer>"
   ]
  },
  {
   "cell_type": "code",
   "execution_count": 23,
   "metadata": {},
   "outputs": [
    {
     "data": {
      "image/png": "[encoded data removed]",
      "text/plain": [
       "<matplotlib.figure.Figure at 0x1fedca16d8>"
      ]
     },
     "metadata": {},
     "output_type": "display_data"
    }
   ],
   "source": [
    "def pastel (T,t,k):\n",
    "    return k*(T-28)\n",
    "ax= plt.figure(num=1);\n",
    "datos= np.zeros(100)\n",
    "inc=1\n",
    "for i,val in enumerate (datos):\n",
    "    t=np.arange(0,60,inc)\n",
    "    k=-0.0565\n",
    "    T0= np.random.normal(280,15)\n",
    "    T_=odeint(pastel,T0,t, args=(k,))\n",
    "    datos[i]=T_[int((1/inc)*20)]\n",
    "    plt.plot(t,T_)\n",
    "    plt.plot(t,24*np.ones(len(t)),\"--k\")\n",
    "    plt.xlabel(\"t\")\n",
    "    plt.ylabel(\"C\")\n",
    "    plt.grid(True)\n",
    "plt.show()\n",
    "    "
   ]
  },
  {
   "cell_type": "code",
   "execution_count": null,
   "metadata": {
    "collapsed": true
   },
   "outputs": [],
   "source": []
  }
 ],
 "metadata": {
  "hide_input": false,
  "kernelspec": {
   "display_name": "Python 3",
   "language": "python",
   "name": "python3"
  },
  "language_info": {
   "codemirror_mode": {
    "name": "ipython",
    "version": 3
   },
   "file_extension": ".py",
   "mimetype": "text/x-python",
   "name": "python",
   "nbconvert_exporter": "python",
   "pygments_lexer": "ipython3",
   "version": "3.6.1"
  },
  "toc": {
   "nav_menu": {},
   "number_sections": true,
   "sideBar": true,
   "skip_h1_title": false,
   "toc_cell": false,
   "toc_position": {},
   "toc_section_display": "block",
   "toc_window_display": false
  },
  "varInspector": {
   "cols": {
    "lenName": 16,
    "lenType": 16,
    "lenVar": 40
   },
   "kernels_config": {
    "python": {
     "delete_cmd_postfix": "",
     "delete_cmd_prefix": "del ",
     "library": "var_list.py",
     "varRefreshCmd": "print(var_dic_list())"
    },
    "r": {
     "delete_cmd_postfix": ") ",
     "delete_cmd_prefix": "rm(",
     "library": "var_list.r",
     "varRefreshCmd": "cat(var_dic_list()) "
    }
   },
   "types_to_exclude": [
    "module",
    "function",
    "builtin_function_or_method",
    "instance",
    "_Feature"
   ],
   "window_display": false
  },
  "widgets": {
   "state": {
    "953c92b52019446ea21b2c969ac3716b": {
     "views": [
      {
       "cell_index": 11
      }
     ]
    },
    "9a6935292a92418a8d3ef2a4f90b19bd": {
     "views": [
      {
       "cell_index": 5
      }
     ]
    }
   },
   "version": "1.2.0"
  }
 },
 "nbformat": 4,
 "nbformat_minor": 2
}
