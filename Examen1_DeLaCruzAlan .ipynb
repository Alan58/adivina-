{
 "cells": [
  {
   "cell_type": "markdown",
   "metadata": {},
   "source": [
    "# Examen Módulo 1 - Ecuaciones diferenciales. <font color =blue> Tipo de examen 1.  </font>\n",
    "\n",
    "Lea cuidadosamente las siguientes indicaciones antes de comenzar el examen:\n",
    "\n",
    "- Para resolver el examen edite este mismo archivo y renómbrelo de la siguiente manera: *Examen1_ApellidoNombre*, donde *ApellidoNombre* corresponde a su apellido paterno con la inicial en mayúscula, seguido de su primer nombre con la inicial en mayúscula **sin acentos**. Por ejemplo, en mi caso el nombre del archivo sería Examen1_LopezMichel.\n",
    "- Resuelva los puntos en el espacio provisto. Si requiere agregar más celdas para código o escritura, hágalo.\n",
    "- Recuerde que también se está evaluando su capacidad de interpretar los resultados. Escriba sus interpretaciones/conclusiones en celdas utilizando *Markdown*.\n",
    "- El formato de presentación de todo el examen en general debe ser adecuado. Use tamaños de letra, colores, etiquetas, etcétera.\n",
    "- No se resuelven dudas de ningún tipo por los profesores de la asignatura. Por favor, absténgase de preguntar.\n",
    "- Revise bien el tipo de examen. Sólo se le calificará si realiza el tipo de examen asignado."
   ]
  },
  {
   "cell_type": "code",
   "execution_count": 3,
   "metadata": {
    "collapsed": true
   },
   "outputs": [],
   "source": [
    "%matplotlib inline \n",
    "\n",
    "import sympy as sym\n",
    "import numpy as np\n",
    "import matplotlib.pylab as plt\n",
    "%matplotlib inline\n",
    "\n",
    "from sympy import init_printing; init_printing(use_latex='mathjax')\n",
    "from IPython.display import display\n",
    "from IPython.display import HTML\n",
    "from scipy.integrate import odeint\n",
    "from ipywidgets import *\n",
    "\n",
    "Ley_Newton_enfriamiento='<iframe src=https://es.wikipedia.org/wiki/Ley_del_enfriamiento_de_Newton?useformat=mobile width=700 height=350></iframe>'\n",
    "Torricelli='<iframe src=https://en.wikipedia.org/wiki/Torricelli%27s_law?useformat=mobile width=700 height=350></iframe>'\n",
    "\n",
    "\n",
    "sym.var('k t x')\n",
    "\n",
    "T = sym.Function('T')"
   ]
  },
  {
   "cell_type": "markdown",
   "metadata": {},
   "source": [
    "# Primer punto (50 puntos).\n",
    "\n",
    "## Introducción al problema. \n",
    "\n",
    "## Ley de Newton del enfriamiento\n",
    "\n",
    "La ley empírica de Newton, relativa al enfriamiento de un objeto, se expresa con la ecuación diferencial lineal de primer orden\n",
    "\n",
    "$$\\frac{dT}{dt} = k(T - Tm) $$\n",
    "\n",
    "en que $k$ es una constante de proporcionalidad, $T(r)$ es la temperatura del objeto cuando $t > 0$\n",
    "y $T_m$ es la temperatura ambiente; o sea, la temperatura del medio que rodea al objeto. \n",
    "\n",
    "Supondremos que $T_m$ es constante."
   ]
  },
  {
   "cell_type": "markdown",
   "metadata": {},
   "source": [
    "### Para más información revise la siguiente pagina. "
   ]
  },
  {
   "cell_type": "code",
   "execution_count": 4,
   "metadata": {},
   "outputs": [
    {
     "name": "stderr",
     "output_type": "stream",
     "text": [
      "Widget Javascript not detected.  It may not be installed or enabled properly.\n"
     ]
    },
    {
     "data": {
      "application/vnd.jupyter.widget-view+json": {
       "model_id": "11e1f75fb0594ce59ea5ba6d6d3a39b5"
      }
     },
     "metadata": {},
     "output_type": "display_data"
    }
   ],
   "source": [
    "HTML(Ley_Newton_enfriamiento)"
   ]
  },
  {
   "cell_type": "markdown",
   "metadata": {},
   "source": [
    "# <font color = red> Problema 1 <font>\n",
    "\n",
    "## ¿Cuánto esperar para comenzar a comer pastel?\n",
    "\n",
    "Al sacar un pastel del horno, su temperatura es $280°C$. Después de $3$ minutos, $2OO°C$. ¿En cuanto tiempo se enfriará hasta la temperatura ambiente de $28°C$? Realiza las siguientes actividades:\n",
    "\n",
    "1. (20 puntos) Simula el sistema en un tiempo de $0$ a $60$ unidades de tiempo  con una constante de proporcionalidad $k=-0.14518$,  \n",
    "2. (15 puntos) \n",
    "    - (10 puntos) Grafique la solución.\n",
    "    - (5 puntos) Supoga que cada unidad de tiempo corresponde a un minuto. ¿En que tiempo aproximadamente la temperatura es menor a $150°C$?\n",
    "3. (15 puntos)\n",
    "    - (10 puntos) ¿Qué interpretación puedes decir para valores de $k >0$?\n",
    "    - (5  puntos) Busca una constante de proporcionalidad $k$ en un rango ( de $-0.2$ a $0.2$ con incremento de 0.01), para la cual el pastel se puede comer a una temperatura menor a $50°C$ en un tiempo a 10 minutos."
   ]
  },
  {
   "cell_type": "code",
   "execution_count": 5,
   "metadata": {
    "collapsed": true
   },
   "outputs": [],
   "source": []
  },
  {
   "cell_type": "code",
   "execution_count": 8,
   "metadata": {
    "collapsed": true
   },
   "outputs": [],
   "source": [
    "Tm=28\n",
    "K=-.14518\n",
    "def Ley (T, t):\n",
    "    return K*(T-Tm)\n"
   ]
  },
  {
   "cell_type": "code",
   "execution_count": 9,
   "metadata": {},
   "outputs": [
    {
     "data": {
      "image/png": "[encoded data removed]",
      "text/plain": [
       "<matplotlib.figure.Figure at 0x3486ac7198>"
      ]
     },
     "metadata": {},
     "output_type": "display_data"
    }
   ],
   "source": [
    "T_0=280\n",
    "#t=np.linspace(0,60)\n",
    "t=np.arange(0,60,1)\n",
    "T=odeint(Ley,T_0,t)\n",
    "plt.plot (t,T)\n",
    "plt.xlabel('$t$', fontsize = 18)\n",
    "plt.ylabel('$Temperatura$', fontsize = 18)\n",
    "plt.show()"
   ]
  },
  {
   "cell_type": "code",
   "execution_count": 10,
   "metadata": {},
   "outputs": [
    {
     "data": {
      "text/plain": [
       "array([ 149.93999858])"
      ]
     },
     "execution_count": 10,
     "metadata": {},
     "output_type": "execute_result"
    }
   ],
   "source": [
    "T[5]"
   ]
  },
  {
   "cell_type": "markdown",
   "metadata": {
    "collapsed": true
   },
   "source": [
    "¿En que tiempo aproximadamente la temperatura es menor a 150°C ?\n",
    "-En el tiempo de 5 minutos  "
   ]
  },
  {
   "cell_type": "code",
   "execution_count": 11,
   "metadata": {},
   "outputs": [
    {
     "data": {
      "image/png": "[encoded data removed]",
      "text/plain": [
       "<matplotlib.figure.Figure at 0x3487b730b8>"
      ]
     },
     "metadata": {},
     "output_type": "display_data"
    }
   ],
   "source": [
    "Tm=28\n",
    "K=.1\n",
    "def Ley (T, t):\n",
    "    return K*(T-Tm)\n",
    "T_0=280\n",
    "#t=np.linspace(0,60)\n",
    "t=np.arange(0,60,1)\n",
    "T=odeint(Ley,T_0,t)\n",
    "plt.plot (t,T)\n",
    "plt.xlabel('$t$', fontsize = 18)\n",
    "plt.ylabel('$Temperatura$', fontsize = 18)\n",
    "plt.show()"
   ]
  },
  {
   "cell_type": "markdown",
   "metadata": {},
   "source": [
    "Que la tempratura va subiendo exponencialmente en vez de bajar "
   ]
  },
  {
   "cell_type": "code",
   "execution_count": 12,
   "metadata": {},
   "outputs": [
    {
     "data": {
      "image/png": "[encoded data removed]",
      "text/plain": [
       "<matplotlib.figure.Figure at 0x3487c04438>"
      ]
     },
     "metadata": {},
     "output_type": "display_data"
    }
   ],
   "source": [
    "Tm=28\n",
    "K=-.25\n",
    "def Ley (T, t):\n",
    "    return K*(T-Tm)\n",
    "T_0=280\n",
    "#t=np.linspace(0,60)\n",
    "t=np.arange(0,60,.01)\n",
    "T=odeint(Ley,T_0,t)\n",
    "plt.plot (t,T)\n",
    "plt.xlabel('$t$', fontsize = 18)\n",
    "plt.ylabel('$Temperatura$', fontsize = 18)\n",
    "plt.show()"
   ]
  },
  {
   "cell_type": "markdown",
   "metadata": {},
   "source": [
    "En menos de 10 minutos con k=-.25 va tener una temperatura de 50"
   ]
  },
  {
   "cell_type": "code",
   "execution_count": 13,
   "metadata": {},
   "outputs": [
    {
     "data": {
      "text/plain": [
       "array([ 250.38922396])"
      ]
     },
     "execution_count": 13,
     "metadata": {},
     "output_type": "execute_result"
    }
   ],
   "source": [
    "T[50]"
   ]
  },
  {
   "cell_type": "markdown",
   "metadata": {},
   "source": [
    "# Segundo punto (50 puntos).\n",
    "\n",
    "## Introducción al problema. \n",
    "\n",
    "## Drenado de un tanque (Ley de Torricelli)\n",
    "\n",
    "En hidrodinámica, la ley de Torricelli establece que la velocidad\n",
    "$v$ de flujo de salida de agua a través de un orificio plano ubicado en la parte inferior\n",
    "de un tanque lleno hasta una altura $h$ será igual a la velocidad que un cuerpo (en este caso\n",
    "una gota de agua) adquiriría en caída libre desde una altura $h$; es decir, $v = \\sqrt{2gh}$, donde $g$ es la aceleración debida a la gravedad.\n",
    "\n",
    "\n",
    "Suponga que un tanque lleno de agua puede drenar mediante un orificio bajo la influencia de la gravedad. Deseamos encontrar la altura $h$ del agua restante en el tanque en el tiempo $t$.\n",
    "\n",
    "Si el área del orificio es $A_h$ (en $m^2$) y la velocidad del agua que sale del tanque es $v = \\sqrt{2gh}$ (en m/s), entonces el volumen del agua que abandona el tanque por segundo es $A_h \\sqrt{2gh}$ (en $m^3$/s). De este modo, si $V(t)$ indica el volumen del agua que hay en el tanque en el tiempo $t$, la ecuación diferencial deseada para la altura del agua en el tiempo t:\n",
    "\n",
    "$$\\frac{dh}{dt} = - \\frac{A_h}{A_w} \\sqrt{2gh} $$\n",
    "\n",
    "\n",
    "Donde $A_w$ (en $m^2$) representa el área constante de la superficie superior del agua.\n",
    "\n",
    "Observe que aquí ignoramos la posibilidad de fricción en el orificio, la cual puede ocasionar una reducción en la velocidad del flujo en\n",
    "dicho lugar\n",
    "\n"
   ]
  },
  {
   "cell_type": "code",
   "execution_count": null,
   "metadata": {
    "collapsed": true
   },
   "outputs": [],
   "source": []
  },
  {
   "cell_type": "markdown",
   "metadata": {},
   "source": [
    "### Para más información revise la siguiente pagina. "
   ]
  },
  {
   "cell_type": "code",
   "execution_count": 14,
   "metadata": {},
   "outputs": [
    {
     "name": "stderr",
     "output_type": "stream",
     "text": [
      "Widget Javascript not detected.  It may not be installed or enabled properly.\n"
     ]
    },
    {
     "data": {
      "application/vnd.jupyter.widget-view+json": {
       "model_id": "88843127be0e41dd919e88324d7502a8"
      }
     },
     "metadata": {},
     "output_type": "display_data"
    }
   ],
   "source": [
    "HTML(Torricelli)"
   ]
  },
  {
   "cell_type": "markdown",
   "metadata": {},
   "source": [
    "# <font color = red> Problema 2 <font>\n",
    "\n",
    "## Drenado de un tanque \n",
    "\n",
    "Concidere un cilindro circular con un área constante de $A_w = 5 m^2$, en la parte inferior contiene un orificio de área $A_h = 1 m^2$ el cual podemos estar regulando la salida del liquido. En el interior del tanque se encuentra un liquido el cual tiene una altura inicial en el tiempo $0$ de $h(0)= 10 m$. Realiza las siguientes actividades:\n",
    "\n",
    "1. (20 puntos) Simula el sistema en un tiempo de $0$ a $6.5$ unidades de tiempo,  \n",
    "2. (15 puntos) \n",
    "    - (10 puntos) Grafique la solución.\n",
    "    - (5 puntos) Supoga que cada unidad de tiempo corresponde a un minuto. ¿En que tiempo aproximadamente la altura del liquido alcanza una altura de $h=2 m$?\n",
    "3. (15 puntos)\n",
    "    - (10 puntos) ¿Qué interpretación puedes decir si el signo de la ecuación fuera positivo?\n",
    "    - (5  puntos)  ¿Si el área del orificio $A_h$ es menor a $1 m^2$ que implicaria? Realiza una simulacion y grafica la solución para un orificio de $A_h = .5 m$ "
   ]
  },
  {
   "cell_type": "code",
   "execution_count": 15,
   "metadata": {},
   "outputs": [
    {
     "name": "stderr",
     "output_type": "stream",
     "text": [
      "C:\\Users\\Isela Calvillo\\Anaconda3\\lib\\site-packages\\ipykernel_launcher.py:6: RuntimeWarning: invalid value encountered in sqrt\n",
      "  \n",
      "C:\\Users\\Isela Calvillo\\Anaconda3\\lib\\site-packages\\scipy\\integrate\\odepack.py:218: ODEintWarning: Excess accuracy requested (tolerances too small). Run with full_output = 1 to get quantitative information.\n",
      "  warnings.warn(warning_msg, ODEintWarning)\n"
     ]
    },
    {
     "data": {
      "image/png": "[encoded data removed]",
      "text/plain": [
       "<matplotlib.figure.Figure at 0x3487bd35f8>"
      ]
     },
     "metadata": {},
     "output_type": "display_data"
    }
   ],
   "source": [
    "\n",
    "Aw= 5\n",
    "Ah= 1\n",
    "g= -9.8\n",
    "def Torricelli (h, t):\n",
    "    return -(Ah/Aw)*((2*h*g)**.5)\n",
    "h_0= 10\n",
    "t=np.linspace(0,6.5)\n",
    "t=np.arange(0,6.5,1)\n",
    "h=odeint(Torricelli, h_0, t)\n",
    "plt.plot (t, h)\n",
    "plt.xlabel('$t$', fontsize = 18)\n",
    "plt.ylabel('$altura$', fontsize = 18)\n",
    "plt.grid()\n",
    "plt.show()"
   ]
  },
  {
   "cell_type": "code",
   "execution_count": 16,
   "metadata": {},
   "outputs": [
    {
     "name": "stderr",
     "output_type": "stream",
     "text": [
      "C:\\Users\\Isela Calvillo\\Anaconda3\\lib\\site-packages\\ipykernel_launcher.py:5: RuntimeWarning: invalid value encountered in sqrt\n",
      "  \"\"\"\n",
      "C:\\Users\\Isela Calvillo\\Anaconda3\\lib\\site-packages\\scipy\\integrate\\odepack.py:218: ODEintWarning: Excess accuracy requested (tolerances too small). Run with full_output = 1 to get quantitative information.\n",
      "  warnings.warn(warning_msg, ODEintWarning)\n"
     ]
    },
    {
     "data": {
      "image/png": "[encoded data removed]",
      "text/plain": [
       "<matplotlib.figure.Figure at 0x3487b735c0>"
      ]
     },
     "metadata": {},
     "output_type": "display_data"
    }
   ],
   "source": [
    "Aw= 5\n",
    "Ah= 1\n",
    "g= -9.8\n",
    "def Torricelli (h, t):\n",
    "    return (Ah/Aw)*(2*h*g)**.5\n",
    "h_0= 10\n",
    "t=np.linspace(0,6.5)\n",
    "t=np.arange(0,6.5,1)\n",
    "h=odeint(Torricelli, h_0, t)\n",
    "plt.plot (t, h)\n",
    "plt.xlabel('$t$', fontsize = 18)\n",
    "plt.ylabel('$altura$', fontsize = 18)\n",
    "plt.grid()\n",
    "plt.show()"
   ]
  },
  {
   "cell_type": "code",
   "execution_count": 17,
   "metadata": {},
   "outputs": [
    {
     "name": "stderr",
     "output_type": "stream",
     "text": [
      "C:\\Users\\Isela Calvillo\\Anaconda3\\lib\\site-packages\\ipykernel_launcher.py:5: RuntimeWarning: invalid value encountered in sqrt\n",
      "  \"\"\"\n",
      "C:\\Users\\Isela Calvillo\\Anaconda3\\lib\\site-packages\\scipy\\integrate\\odepack.py:218: ODEintWarning: Excess accuracy requested (tolerances too small). Run with full_output = 1 to get quantitative information.\n",
      "  warnings.warn(warning_msg, ODEintWarning)\n"
     ]
    },
    {
     "data": {
      "image/png": "[encoded data removed]",
      "text/plain": [
       "<matplotlib.figure.Figure at 0x3486617d30>"
      ]
     },
     "metadata": {},
     "output_type": "display_data"
    }
   ],
   "source": [
    "Aw= 5\n",
    "Ah= .5\n",
    "g= -9.8\n",
    "def Torricelli (h, t):\n",
    "    return -(Ah/Aw)*(2*h*g)**.5\n",
    "h_0= 10\n",
    "t=np.linspace(0,6.5)\n",
    "t=np.arange(0,6.5,1)\n",
    "h=odeint(Torricelli, h_0, t)\n",
    "plt.plot (t, h)\n",
    "plt.xlabel('$t$', fontsize = 18)\n",
    "plt.ylabel('$altura$', fontsize = 18)\n",
    "plt.grid()\n",
    "plt.show()"
   ]
  },
  {
   "cell_type": "code",
   "execution_count": 20,
   "metadata": {},
   "outputs": [
    {
     "name": "stdout",
     "output_type": "stream",
     "text": [
      "C:\\Users\\Isela Calvillo\n"
     ]
    }
   ],
   "source": [
    "!cd"
   ]
  },
  {
   "cell_type": "code",
   "execution_count": null,
   "metadata": {
    "collapsed": true
   },
   "outputs": [],
   "source": []
  }
 ],
 "metadata": {
  "kernelspec": {
   "display_name": "Python 3",
   "language": "python",
   "name": "python3"
  },
  "language_info": {
   "codemirror_mode": {
    "name": "ipython",
    "version": 3
   },
   "file_extension": ".py",
   "mimetype": "text/x-python",
   "name": "python",
   "nbconvert_exporter": "python",
   "pygments_lexer": "ipython3",
   "version": "3.6.1"
  },
  "widgets": {
   "state": {
    "928ba576d9ca4ebea616e1d3c6a124bc": {
     "views": [
      {
       "cell_index": 4
      }
     ]
    },
    "b6c1fee6780845c59e2f26bbd538da70": {
     "views": [
      {
       "cell_index": 12
      }
     ]
    }
   },
   "version": "1.2.0"
  }
 },
 "nbformat": 4,
 "nbformat_minor": 2
}
