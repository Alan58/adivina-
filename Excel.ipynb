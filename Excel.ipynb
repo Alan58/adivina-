{
 "cells": [
  {
   "cell_type": "code",
   "execution_count": null,
   "metadata": {
    "collapsed": true
   },
   "outputs": [],
   "source": [
    "!pip install xlwings"
   ]
  },
  {
   "cell_type": "code",
   "execution_count": 2,
   "metadata": {
    "collapsed": true
   },
   "outputs": [],
   "source": [
    "import xlwings as xw"
   ]
  },
  {
   "cell_type": "code",
   "execution_count": 6,
   "metadata": {
    "collapsed": true
   },
   "outputs": [],
   "source": [
    "xw.Range(\"A1\").value =\"Hola Mundo\""
   ]
  },
  {
   "cell_type": "code",
   "execution_count": 7,
   "metadata": {},
   "outputs": [
    {
     "data": {
      "text/plain": [
       "'Hola Mundo'"
      ]
     },
     "execution_count": 7,
     "metadata": {},
     "output_type": "execute_result"
    }
   ],
   "source": [
    "xw.Range(\"A1\").value"
   ]
  },
  {
   "cell_type": "code",
   "execution_count": 8,
   "metadata": {
    "collapsed": true
   },
   "outputs": [],
   "source": [
    "xw.Range(\"B1\").value =\"100\""
   ]
  },
  {
   "cell_type": "code",
   "execution_count": 9,
   "metadata": {},
   "outputs": [
    {
     "data": {
      "text/plain": [
       "100.0"
      ]
     },
     "execution_count": 9,
     "metadata": {},
     "output_type": "execute_result"
    }
   ],
   "source": [
    "xw.Range(\"B1\").value"
   ]
  },
  {
   "cell_type": "code",
   "execution_count": 12,
   "metadata": {
    "collapsed": true
   },
   "outputs": [],
   "source": [
    "xw.Range(\"A2\").value=[[\"Dato 1\",\"Dato 2\",\"Dato 3\"],[10.0, 20.0, 30.0]]"
   ]
  },
  {
   "cell_type": "code",
   "execution_count": 18,
   "metadata": {},
   "outputs": [
    {
     "data": {
      "text/plain": [
       "[['Hola Mundo', 100.0, None],\n",
       " ['Dato 1', 'Dato 2', 'Dato 3'],\n",
       " [10.0, 20.0, 30.0]]"
      ]
     },
     "execution_count": 18,
     "metadata": {},
     "output_type": "execute_result"
    }
   ],
   "source": [
    "xw.Range(\"A1:C3\").value"
   ]
  },
  {
   "cell_type": "code",
   "execution_count": 19,
   "metadata": {},
   "outputs": [
    {
     "data": {
      "text/plain": [
       "datetime.datetime(2000, 1, 1, 0, 0)"
      ]
     },
     "execution_count": 19,
     "metadata": {},
     "output_type": "execute_result"
    }
   ],
   "source": [
    "import datetime as dt\n",
    "xw.Range(\"A5\").value= dt.datetime(2000,1,1)\n",
    "xw.Range(\"A5\").value"
   ]
  },
  {
   "cell_type": "code",
   "execution_count": 23,
   "metadata": {},
   "outputs": [
    {
     "name": "stdout",
     "output_type": "stream",
     "text": [
      "['Hoy-->', datetime.datetime(2017, 10, 19, 0, 0), None]\n"
     ]
    }
   ],
   "source": [
    "hoy=dt.date.today()\n",
    "un_dia = dt.timedelta(days=1)\n",
    "ayer = hoy-un_dia\n",
    "mañana = hoy+un_dia\n",
    "xw.Range(\"A8\").value = \"Hoy-->\"\n",
    "xw.Range(\"B8\").value = hoy\n",
    "print (xw.Range(\"A8:C8\").value)\n",
    "xw.Range(\"A9:B9\").value = [\"Ayer-->\",ayer]\n",
    "xw.Range(\"A10\").value = [\"Mañana-->\",mañana]\n"
   ]
  },
  {
   "cell_type": "code",
   "execution_count": 24,
   "metadata": {
    "collapsed": true
   },
   "outputs": [],
   "source": [
    "xw.Range(\"A16\").value = [[1],[2],[3],[4],[5]]"
   ]
  },
  {
   "cell_type": "code",
   "execution_count": 25,
   "metadata": {
    "collapsed": true
   },
   "outputs": [],
   "source": [
    "xw.Range(\"B16\").value = [10,20,30,40,50]"
   ]
  },
  {
   "cell_type": "code",
   "execution_count": 26,
   "metadata": {},
   "outputs": [
    {
     "name": "stdout",
     "output_type": "stream",
     "text": [
      "100.0 <class 'float'>\n",
      "['Hola Mundo'] <class 'list'>\n"
     ]
    }
   ],
   "source": [
    "val= xw.Range (\"B1\").value\n",
    "print (val,type(val))\n",
    "val=xw.Range(\"A1\").options(ndim=1).value\n",
    "print (val,type(val))"
   ]
  },
  {
   "cell_type": "code",
   "execution_count": 27,
   "metadata": {},
   "outputs": [
    {
     "data": {
      "text/plain": [
       "[[1.0], [2.0], [3.0], [4.0], [5.0]]"
      ]
     },
     "execution_count": 27,
     "metadata": {},
     "output_type": "execute_result"
    }
   ],
   "source": [
    "xw.Range(\"A16:A20\").options(ndim=2).value\n"
   ]
  },
  {
   "cell_type": "code",
   "execution_count": 28,
   "metadata": {},
   "outputs": [
    {
     "data": {
      "text/plain": [
       "[[10.0, 20.0, 30.0, 40.0]]"
      ]
     },
     "execution_count": 28,
     "metadata": {},
     "output_type": "execute_result"
    }
   ],
   "source": [
    "xw.Range(\"B16:E16\").options(ndim=2).value"
   ]
  },
  {
   "cell_type": "code",
   "execution_count": 29,
   "metadata": {},
   "outputs": [
    {
     "data": {
      "text/plain": [
       "[[1.0, 10.0, 20.0, 30.0, 40.0],\n",
       " [2.0, None, None, None, None],\n",
       " [3.0, None, None, None, None],\n",
       " [4.0, None, None, None, None],\n",
       " [5.0, None, None, None, None]]"
      ]
     },
     "execution_count": 29,
     "metadata": {},
     "output_type": "execute_result"
    }
   ],
   "source": [
    "xw.Range(\"A16:E20\").value"
   ]
  },
  {
   "cell_type": "code",
   "execution_count": 30,
   "metadata": {},
   "outputs": [
    {
     "data": {
      "text/plain": [
       "[[1.0, 10.0, 20.0, 30.0, 40.0, 50.0],\n",
       " [2.0, None, None, None, None, None],\n",
       " [3.0, None, None, None, None, None],\n",
       " [4.0, None, None, None, None, None],\n",
       " [5.0, None, None, None, None, None]]"
      ]
     },
     "execution_count": 30,
     "metadata": {},
     "output_type": "execute_result"
    }
   ],
   "source": [
    "Tabla1=xw.Range(\"A16\").expand(\"table\")\n",
    "Tabla1.value"
   ]
  },
  {
   "cell_type": "code",
   "execution_count": 31,
   "metadata": {},
   "outputs": [
    {
     "data": {
      "text/plain": [
       "[[1.0, 10.0, 20.0, 30.0, 40.0, 50.0],\n",
       " [2.0, None, None, None, None, None],\n",
       " [3.0, None, None, None, None, None],\n",
       " [4.0, None, None, None, None, None],\n",
       " [5.0, None, None, None, None, None]]"
      ]
     },
     "execution_count": 31,
     "metadata": {},
     "output_type": "execute_result"
    }
   ],
   "source": [
    "tabla2= xw.Range(\"A16\").options (expand=\"table\")\n",
    "tabla2.value"
   ]
  },
  {
   "cell_type": "code",
   "execution_count": 32,
   "metadata": {
    "collapsed": true
   },
   "outputs": [],
   "source": [
    "xw.Range(\"A22\").value = list(range(0,7))"
   ]
  },
  {
   "cell_type": "code",
   "execution_count": 35,
   "metadata": {},
   "outputs": [
    {
     "data": {
      "text/plain": [
       "[[1.0, 10.0, 20.0, 30.0, 40.0, 50.0],\n",
       " [2.0, None, None, None, None, None],\n",
       " [3.0, None, None, None, None, None],\n",
       " [4.0, None, None, None, None, None],\n",
       " [5.0, None, None, None, None, None]]"
      ]
     },
     "execution_count": 35,
     "metadata": {},
     "output_type": "execute_result"
    }
   ],
   "source": [
    "Tabla1.value"
   ]
  },
  {
   "cell_type": "code",
   "execution_count": 40,
   "metadata": {
    "collapsed": true
   },
   "outputs": [],
   "source": [
    "import numpy as np\n",
    "xw.Range(\"A25\").value = np.eye(3)"
   ]
  },
  {
   "cell_type": "code",
   "execution_count": 41,
   "metadata": {},
   "outputs": [
    {
     "data": {
      "text/plain": [
       "array([[ 1.,  0.,  0.],\n",
       "       [ 0.,  1.,  0.],\n",
       "       [ 0.,  0.,  1.]])"
      ]
     },
     "execution_count": 41,
     "metadata": {},
     "output_type": "execute_result"
    }
   ],
   "source": [
    "xw.Range(\"A25\").options(np.array, expand=\"table\").value"
   ]
  },
  {
   "cell_type": "code",
   "execution_count": 42,
   "metadata": {
    "collapsed": true
   },
   "outputs": [],
   "source": [
    "f=lambda x: x**2\n",
    "x=np.arange(0,10,1)\n",
    "xw.Range(\"A30\").value= x\n",
    "xw.Range(\"A31\").value= f(x)"
   ]
  },
  {
   "cell_type": "code",
   "execution_count": 43,
   "metadata": {
    "collapsed": true
   },
   "outputs": [],
   "source": [
    "xw.Range(\"A36\").value = [list(x),list(f(x))]"
   ]
  },
  {
   "cell_type": "code",
   "execution_count": null,
   "metadata": {
    "collapsed": true
   },
   "outputs": [],
   "source": []
  }
 ],
 "metadata": {
  "kernelspec": {
   "display_name": "Python 3",
   "language": "python",
   "name": "python3"
  },
  "language_info": {
   "codemirror_mode": {
    "name": "ipython",
    "version": 3
   },
   "file_extension": ".py",
   "mimetype": "text/x-python",
   "name": "python",
   "nbconvert_exporter": "python",
   "pygments_lexer": "ipython3",
   "version": "3.6.1"
  }
 },
 "nbformat": 4,
 "nbformat_minor": 2
}
