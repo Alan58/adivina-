{
 "cells": [
  {
   "cell_type": "code",
   "execution_count": 11,
   "metadata": {},
   "outputs": [
    {
     "name": "stdout",
     "output_type": "stream",
     "text": [
      "juego terminado\n"
     ]
    }
   ],
   "source": [
    "import random as ran \n",
    "num_adivinar = ran.randint(1,11)\n",
    "i=1\n",
    "while i <=0:\n",
    "    i+=1\n",
    "    num_suposicion= int(input(\"intento %d: adivina el numero!!! \\n\"%(i)))\n",
    "    \n",
    "    if i==num_suposicion:\n",
    "        print (\"felicidades, encontraste el numero\")\n",
    "    else:\n",
    "        print(\"intento fallido,vuelve a intentar\")\n",
    "print(\"juego terminado\")"
   ]
  },
  {
   "cell_type": "code",
   "execution_count": null,
   "metadata": {
    "collapsed": true
   },
   "outputs": [],
   "source": []
  },
  {
   "cell_type": "code",
   "execution_count": null,
   "metadata": {
    "collapsed": true
   },
   "outputs": [],
   "source": []
  }
 ],
 "metadata": {
  "kernelspec": {
   "display_name": "Python 3",
   "language": "python",
   "name": "python3"
  },
  "language_info": {
   "codemirror_mode": {
    "name": "ipython",
    "version": 3
   },
   "file_extension": ".py",
   "mimetype": "text/x-python",
   "name": "python",
   "nbconvert_exporter": "python",
   "pygments_lexer": "ipython3",
   "version": "3.6.1"
  }
 },
 "nbformat": 4,
 "nbformat_minor": 2
}
