{
 "cells": [
  {
   "cell_type": "code",
   "execution_count": 40,
   "metadata": {},
   "outputs": [
    {
     "name": "stdout",
     "output_type": "stream",
     "text": [
      "C:\\Users\\Isela Calvillo\n"
     ]
    }
   ],
   "source": [
    "!cd"
   ]
  },
  {
   "cell_type": "code",
   "execution_count": 41,
   "metadata": {},
   "outputs": [
    {
     "name": "stderr",
     "output_type": "stream",
     "text": [
      "\"open\" no se reconoce como un comando interno o externo,\n",
      "programa o archivo por lotes ejecutable.\n"
     ]
    }
   ],
   "source": []
  },
  {
   "cell_type": "code",
   "execution_count": 1,
   "metadata": {
    "collapsed": true
   },
   "outputs": [],
   "source": [
    "%matplotlib inline \n",
    "import matplotlib.pylab as plt\n",
    "import numpy as np\n",
    "from sympy import *\n",
    "import pandas as pd\n",
    "from scipy import stats "
   ]
  },
  {
   "cell_type": "code",
   "execution_count": 26,
   "metadata": {},
   "outputs": [
    {
     "name": "stdout",
     "output_type": "stream",
     "text": [
      "Monto inicial: $10000 pesos.\n",
      "Pedi prestado: $1000.0 pesos.\n",
      "Inverti: $11000.0 pesos.\n",
      "Termine con: $12320.0 pesos.\n",
      "Pago prestamo: $1050.0 pesos.\n",
      "Monto Final: $11270.0 pesos.\n",
      "Rendimiento: 12.7 %\n"
     ]
    }
   ],
   "source": [
    "montoinicial = 10000\n",
    "tasaprestamo = .10\n",
    "prestamo= montoinicial*tasaprestamo\n",
    "tasainteres = .05\n",
    "montodisponible = montoinicial+prestamo\n",
    "rendimiento = .12\n",
    "subtotal= rendimiento*montodisponible +montodisponible\n",
    "pagoprestamo = prestamo+ tasainteres*prestamo\n",
    "montofinal= subtotal- pagoprestamo\n",
    "rendimiento= (montofinal-montoinicial)/montoinicial\n",
    "print(\"Monto inicial: $\"+str(montoinicial)+\" pesos.\")\n",
    "print(\"Pedi prestado: $\"+str(prestamo)+\" pesos.\")\n",
    "print(\"Inverti: $\"+str(montodisponible)+\" pesos.\")\n",
    "print(\"Termine con: $\"+str(subtotal)+\" pesos.\")\n",
    "print(\"Pago prestamo: $\"+str(pagoprestamo)+\" pesos.\")\n",
    "print(\"Monto Final: $\"+str(montofinal)+\" pesos.\")\n",
    "print(\"Rendimiento: \"+str(rendimiento*100)+\" %\")"
   ]
  },
  {
   "cell_type": "code",
   "execution_count": 27,
   "metadata": {},
   "outputs": [
    {
     "name": "stdout",
     "output_type": "stream",
     "text": [
      "Monto inicial: $10000 pesos.\n",
      "Pedi prestado: $20000.0 pesos.\n",
      "Inverti: $30000.0 pesos.\n",
      "Termine con: $33600.0 pesos.\n",
      "Pago prestamo: $21000.0 pesos.\n",
      "Monto Final: $12600.0 pesos.\n",
      "Rendimiento: 26.0 %\n"
     ]
    }
   ],
   "source": [
    "montoinicial = 10000\n",
    "tasaprestamo = 2.0\n",
    "prestamo= montoinicial*tasaprestamo\n",
    "tasainteres = .05\n",
    "montodisponible = montoinicial+prestamo\n",
    "rendimiento = .12\n",
    "subtotal= rendimiento*montodisponible +montodisponible\n",
    "pagoprestamo = prestamo+ tasainteres*prestamo\n",
    "montofinal= subtotal- pagoprestamo\n",
    "rendimiento= (montofinal-montoinicial)/montoinicial\n",
    "print(\"Monto inicial: $\"+str(montoinicial)+\" pesos.\")\n",
    "print(\"Pedi prestado: $\"+str(prestamo)+\" pesos.\")\n",
    "print(\"Inverti: $\"+str(montodisponible)+\" pesos.\")\n",
    "print(\"Termine con: $\"+str(subtotal)+\" pesos.\")\n",
    "print(\"Pago prestamo: $\"+str(pagoprestamo)+\" pesos.\")\n",
    "print(\"Monto Final: $\"+str(montofinal)+\" pesos.\")\n",
    "print(\"Rendimiento: \"+str(rendimiento*100)+\" %\")"
   ]
  },
  {
   "cell_type": "code",
   "execution_count": 13,
   "metadata": {},
   "outputs": [
    {
     "name": "stdout",
     "output_type": "stream",
     "text": [
      "Monto inicial: $10000pesos.\n",
      "Pedi prestado: $5000.0pesos.\n",
      "Inverti: $15000.0pesos.\n",
      "Termine con: $10500.0pesos.\n",
      "Pago prestamo: $5250.0pesos.\n",
      "Monto Final: $5250.0pesos.\n",
      "Rendimiento: -47.5%\n"
     ]
    }
   ],
   "source": [
    "montoinicial = 10000\n",
    "tasaprestamo = .5\n",
    "prestamo= montoinicial*tasaprestamo\n",
    "tasainteres = .05\n",
    "montodisponible = montoinicial+prestamo\n",
    "rendimiento = -.30\n",
    "subtotal= rendimiento*montodisponible +montodisponible\n",
    "pagoprestamo = prestamo+ tasainteres*prestamo\n",
    "montofinal= subtotal- pagoprestamo\n",
    "rendimiento= (montofinal-montoinicial)/montoinicial\n",
    "print(\"Monto inicial: $\"+str(montoinicial)+\" pesos.\")\n",
    "print(\"Pedi prestado: $\"+str(prestamo)+\" pesos.\")\n",
    "print(\"Inverti: $\"+str(montodisponible)+\" pesos.\")\n",
    "print(\"Termine con: $\"+str(subtotal)+\" pesos.\")\n",
    "print(\"Pago prestamo: $\"+str(pagoprestamo)+\" pesos.\")\n",
    "print(\"Monto Final: $\"+str(montofinal)+\" pesos.\")\n",
    "print(\"Rendimiento: \"+str(rendimiento*100)+\" %\")"
   ]
  },
  {
   "cell_type": "code",
   "execution_count": 25,
   "metadata": {},
   "outputs": [
    {
     "name": "stdout",
     "output_type": "stream",
     "text": [
      "Monto inicial: $10000 pesos.\n",
      "Pedi prestado: $5000.0 pesos.\n",
      "Inverti: $15000.0 pesos.\n",
      "Termine con: $13032.87900469917 pesos.\n",
      "Pago prestamo: $5250.0 pesos.\n",
      "Monto Final: $7782.879004699171 pesos.\n",
      "Rendimiento: -22.17120995300829 %\n"
     ]
    }
   ],
   "source": [
    "montoinicial = 10000\n",
    "tasaprestamo = .5\n",
    "prestamo= montoinicial*tasaprestamo\n",
    "tasainteres = .05\n",
    "montodisponible = montoinicial+prestamo\n",
    "rendimiento = np.random.normal(.12,.20)\n",
    "subtotal= rendimiento*montodisponible +montodisponible\n",
    "pagoprestamo = prestamo+ tasainteres*prestamo\n",
    "montofinal= subtotal- pagoprestamo\n",
    "rendimiento= (montofinal-montoinicial)/montoinicial\n",
    "print(\"Monto inicial: $\"+str(montoinicial)+\" pesos.\")\n",
    "print(\"Pedi prestado: $\"+str(prestamo)+\" pesos.\")\n",
    "print(\"Inverti: $\"+str(montodisponible)+\" pesos.\")\n",
    "print(\"Termine con: $\"+str(subtotal)+\" pesos.\")\n",
    "print(\"Pago prestamo: $\"+str(pagoprestamo)+\" pesos.\")\n",
    "print(\"Monto Final: $\"+str(montofinal)+\" pesos.\")\n",
    "print(\"Rendimiento: \"+str(rendimiento*100)+\" %\")"
   ]
  },
  {
   "cell_type": "code",
   "execution_count": 28,
   "metadata": {},
   "outputs": [
    {
     "data": {
      "text/plain": [
       "<matplotlib.text.Text at 0x47adfcd4a8>"
      ]
     },
     "execution_count": 28,
     "metadata": {},
     "output_type": "execute_result"
    },
    {
     "data": {
      "image/png": "[encoded data removed]",
      "text/plain": [
       "<matplotlib.figure.Figure at 0x47add7ccc0>"
      ]
     },
     "metadata": {},
     "output_type": "display_data"
    }
   ],
   "source": [
    "plt.hist(np.random.normal(.12,.20,10000),normed=True,bins=100);\n",
    "plt.ylabel(\"Probabibilidad\")\n",
    "plt.xlabel(\"Valores\")"
   ]
  },
  {
   "cell_type": "code",
   "execution_count": 34,
   "metadata": {
    "collapsed": true
   },
   "outputs": [],
   "source": [
    "def SP500():\n",
    "    montoinicial = 10000\n",
    "    tasaprestamo = .8\n",
    "    prestamo= montoinicial*tasaprestamo\n",
    "    tasainteres = .05\n",
    "    montodisponible = montoinicial+prestamo\n",
    "    rendimiento = np.random.normal(.12,.20)\n",
    "    subtotal= rendimiento*montodisponible +montodisponible\n",
    "    pagoprestamo = prestamo+ tasainteres*prestamo\n",
    "    montofinal= subtotal- pagoprestamo\n",
    "    rendimiento= (montofinal-montoinicial)/montoinicial\n",
    "    return rendimiento\n"
   ]
  },
  {
   "cell_type": "code",
   "execution_count": 35,
   "metadata": {},
   "outputs": [
    {
     "name": "stdout",
     "output_type": "stream",
     "text": [
      "Rendimiento promedio: 18.7531023996 %\n",
      "Rendimiento tiene una volantidad: 36.4803356013 %\n"
     ]
    }
   ],
   "source": [
    "n= 10000\n",
    "rendimiento = np.zeros(n)\n",
    "for i,j in enumerate (rendimiento):\n",
    "    rendimiento[i] = SP500()\n",
    "print (\"Rendimiento promedio: \"+str(np.mean(rendimiento)*100)+\" %\")\n",
    "print (\"Rendimiento tiene una volantidad: \"+str(np.std(rendimiento)*100)+\" %\")"
   ]
  },
  {
   "cell_type": "code",
   "execution_count": 36,
   "metadata": {},
   "outputs": [
    {
     "data": {
      "image/png": "[encoded data removed]",
      "text/plain": [
       "<matplotlib.figure.Figure at 0x47ae2b2320>"
      ]
     },
     "metadata": {},
     "output_type": "display_data"
    }
   ],
   "source": [
    "plt.hist(rendimiento,normed=True,bins=100);"
   ]
  },
  {
   "cell_type": "code",
   "execution_count": 38,
   "metadata": {},
   "outputs": [
    {
     "name": "stdout",
     "output_type": "stream",
     "text": [
      "Rendimiento promedio: 17.9675233279 %\n",
      "Rendimiento tiene una volantidad: 36.7077546276 %\n"
     ]
    },
    {
     "data": {
      "text/html": [
       "<div>\n",
       "<style>\n",
       "    .dataframe thead tr:only-child th {\n",
       "        text-align: right;\n",
       "    }\n",
       "\n",
       "    .dataframe thead th {\n",
       "        text-align: left;\n",
       "    }\n",
       "\n",
       "    .dataframe tbody tr th {\n",
       "        vertical-align: top;\n",
       "    }\n",
       "</style>\n",
       "<table border=\"1\" class=\"dataframe\">\n",
       "  <thead>\n",
       "    <tr style=\"text-align: right;\">\n",
       "      <th></th>\n",
       "      <th>0</th>\n",
       "      <th>1</th>\n",
       "    </tr>\n",
       "  </thead>\n",
       "  <tbody>\n",
       "    <tr>\n",
       "      <th>68%</th>\n",
       "      <td>-0.187402</td>\n",
       "      <td>0.546753</td>\n",
       "    </tr>\n",
       "    <tr>\n",
       "      <th>95%</th>\n",
       "      <td>-0.554480</td>\n",
       "      <td>0.913830</td>\n",
       "    </tr>\n",
       "    <tr>\n",
       "      <th>99%</th>\n",
       "      <td>-0.921557</td>\n",
       "      <td>1.280908</td>\n",
       "    </tr>\n",
       "  </tbody>\n",
       "</table>\n",
       "</div>"
      ],
      "text/plain": [
       "            0         1\n",
       "68% -0.187402  0.546753\n",
       "95% -0.554480  0.913830\n",
       "99% -0.921557  1.280908"
      ]
     },
     "execution_count": 38,
     "metadata": {},
     "output_type": "execute_result"
    },
    {
     "data": {
      "image/png": "[encoded data removed]",
      "text/plain": [
       "<matplotlib.figure.Figure at 0x47ae4916a0>"
      ]
     },
     "metadata": {},
     "output_type": "display_data"
    }
   ],
   "source": [
    "n= 10000\n",
    "rendimiento = np.zeros(n)\n",
    "for i,j in enumerate (rendimiento):\n",
    "    rendimiento[i] = SP500()\n",
    "print (\"Rendimiento promedio: \"+str(np.mean(rendimiento)*100)+\" %\")\n",
    "print (\"Rendimiento tiene una volantidad: \"+str(np.std(rendimiento)*100)+\" %\")\n",
    "plt.hist(rendimiento,normed=True,bins=100);\n",
    "u= np.mean(rendimiento)\n",
    "std= np.std(rendimiento)\n",
    "df= pd.DataFrame([[u-std,u+std],[u-2*std,u+2*std],[u-3*std,u+3*std]])\n",
    "df.index=[\"68%\",\"95%\",\"99%\"]\n",
    "df"
   ]
  },
  {
   "cell_type": "code",
   "execution_count": null,
   "metadata": {
    "collapsed": true
   },
   "outputs": [],
   "source": []
  }
 ],
 "metadata": {
  "kernelspec": {
   "display_name": "Python 3",
   "language": "python",
   "name": "python3"
  },
  "language_info": {
   "codemirror_mode": {
    "name": "ipython",
    "version": 3
   },
   "file_extension": ".py",
   "mimetype": "text/x-python",
   "name": "python",
   "nbconvert_exporter": "python",
   "pygments_lexer": "ipython3",
   "version": "3.6.1"
  }
 },
 "nbformat": 4,
 "nbformat_minor": 2
}
